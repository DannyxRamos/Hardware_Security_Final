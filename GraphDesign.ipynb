{
 "cells": [
  {
   "cell_type": "code",
   "execution_count": 4,
   "id": "df119eb8-67f0-44e5-92e8-0ba43738534c",
   "metadata": {},
   "outputs": [
    {
     "ename": "FileNotFoundError",
     "evalue": "[Errno 2] No such file or directory: 'Dropbox/Spring 2023/Hardware Security/Final Project/HardwareTrojan Project_EE6914/HardwareTrojan Project_EE6914/sample_design/size_4/c2670_T_0.v'",
     "output_type": "error",
     "traceback": [
      "\u001b[1;31m---------------------------------------------------------------------------\u001b[0m",
      "\u001b[1;31mFileNotFoundError\u001b[0m                         Traceback (most recent call last)",
      "\u001b[1;32m~\\AppData\\Local\\Temp/ipykernel_24728/3866348951.py\u001b[0m in \u001b[0;36m<module>\u001b[1;34m\u001b[0m\n\u001b[0;32m     63\u001b[0m \u001b[1;33m\u001b[0m\u001b[0m\n\u001b[0;32m     64\u001b[0m \u001b[1;31m# Parse the Verilog file\u001b[0m\u001b[1;33m\u001b[0m\u001b[1;33m\u001b[0m\u001b[0m\n\u001b[1;32m---> 65\u001b[1;33m \u001b[0mmodules\u001b[0m\u001b[1;33m,\u001b[0m \u001b[0minputs\u001b[0m\u001b[1;33m,\u001b[0m \u001b[0moutputs\u001b[0m\u001b[1;33m,\u001b[0m \u001b[0mwires\u001b[0m \u001b[1;33m=\u001b[0m \u001b[0mparse_verilog\u001b[0m\u001b[1;33m(\u001b[0m\u001b[0mfile_path\u001b[0m\u001b[1;33m)\u001b[0m\u001b[1;33m\u001b[0m\u001b[1;33m\u001b[0m\u001b[0m\n\u001b[0m\u001b[0;32m     66\u001b[0m \u001b[1;33m\u001b[0m\u001b[0m\n\u001b[0;32m     67\u001b[0m \u001b[1;31m# Generate the graph design\u001b[0m\u001b[1;33m\u001b[0m\u001b[1;33m\u001b[0m\u001b[0m\n",
      "\u001b[1;32m~\\AppData\\Local\\Temp/ipykernel_24728/3866348951.py\u001b[0m in \u001b[0;36mparse_verilog\u001b[1;34m(file_path)\u001b[0m\n\u001b[0;32m     32\u001b[0m     \u001b[0mwires\u001b[0m \u001b[1;33m=\u001b[0m \u001b[1;33m[\u001b[0m\u001b[1;33m]\u001b[0m\u001b[1;33m\u001b[0m\u001b[1;33m\u001b[0m\u001b[0m\n\u001b[0;32m     33\u001b[0m \u001b[1;33m\u001b[0m\u001b[0m\n\u001b[1;32m---> 34\u001b[1;33m     \u001b[1;32mwith\u001b[0m \u001b[0mopen\u001b[0m\u001b[1;33m(\u001b[0m\u001b[0mfile_path\u001b[0m\u001b[1;33m,\u001b[0m \u001b[1;34m'r'\u001b[0m\u001b[1;33m)\u001b[0m \u001b[1;32mas\u001b[0m \u001b[0mfile\u001b[0m\u001b[1;33m:\u001b[0m\u001b[1;33m\u001b[0m\u001b[1;33m\u001b[0m\u001b[0m\n\u001b[0m\u001b[0;32m     35\u001b[0m         \u001b[0mverilog_code\u001b[0m \u001b[1;33m=\u001b[0m \u001b[0mfile\u001b[0m\u001b[1;33m.\u001b[0m\u001b[0mread\u001b[0m\u001b[1;33m(\u001b[0m\u001b[1;33m)\u001b[0m\u001b[1;33m\u001b[0m\u001b[1;33m\u001b[0m\u001b[0m\n\u001b[0;32m     36\u001b[0m \u001b[1;33m\u001b[0m\u001b[0m\n",
      "\u001b[1;31mFileNotFoundError\u001b[0m: [Errno 2] No such file or directory: 'Dropbox/Spring 2023/Hardware Security/Final Project/HardwareTrojan Project_EE6914/HardwareTrojan Project_EE6914/sample_design/size_4/c2670_T_0.v'"
     ]
    }
   ],
   "source": [
    "import re\n",
    "import networkx as nx\n",
    "import matplotlib.pyplot as plt\n",
    "\n",
    "def generate_graph_design(modules, inputs, outputs, wires):\n",
    "    G = nx.DiGraph()\n",
    "    \n",
    "    # Add modules as nodes\n",
    "    for module in modules:\n",
    "        G.add_node(module)\n",
    "        \n",
    "    # Connect inputs to modules\n",
    "    for input_pin in inputs:\n",
    "        G.add_edge(input_pin, input_pin.split('.')[0])\n",
    "        \n",
    "    # Connect modules to outputs\n",
    "    for output_pin in outputs:\n",
    "        G.add_edge(output_pin.split('.')[0], output_pin)\n",
    "        \n",
    "    # Connect wires between modules\n",
    "    for wire in wires:\n",
    "        source_module = wire.split('.')[0]\n",
    "        dest_module = wire.split('.')[1]\n",
    "        G.add_edge(source_module, dest_module)\n",
    "    \n",
    "    return G\n",
    "\n",
    "def parse_verilog(file_path):\n",
    "    modules = []\n",
    "    inputs = []\n",
    "    outputs = []\n",
    "    wires = []\n",
    "    \n",
    "    with open(file_path, 'r') as file:\n",
    "        verilog_code = file.read()\n",
    "    \n",
    "    # Extract module names\n",
    "    module_matches = re.findall(r'module\\s+(\\w+)', verilog_code)\n",
    "    modules.extend(module_matches)\n",
    "    \n",
    "    # Extract input names\n",
    "    input_matches = re.findall(r'input\\s+(\\w+)', verilog_code)\n",
    "    inputs.extend(input_matches)\n",
    "    \n",
    "    # Extract output names\n",
    "    output_matches = re.findall(r'output\\s+(\\w+)', verilog_code)\n",
    "    outputs.extend(output_matches)\n",
    "    \n",
    "    # Extract wire names\n",
    "    wire_matches = re.findall(r'wire\\s+(\\w+)\\s*;', verilog_code)\n",
    "    wires.extend(wire_matches)\n",
    "    \n",
    "    return modules, inputs, outputs, wires\n",
    "\n",
    "# Example Verilog file: design.v\n",
    "# module AND2(input A, B, output Y);\n",
    "# module OR2(input A, B, output Y);\n",
    "# module NOT1(input A, output Y);\n",
    "# wire A_to_AND, B_to_AND, A_to_OR, B_to_OR, Y_from_AND, Y_from_OR, Y_from_NOT;\n",
    "\n",
    "# Provide the path to the Verilog file\n",
    "file_path = 'Dropbox/Spring 2023/Hardware Security/Final Project/HardwareTrojan Project_EE6914/HardwareTrojan Project_EE6914/sample_design/size_4/c2670_T_0.v'\n",
    "\n",
    "# Parse the Verilog file\n",
    "modules, inputs, outputs, wires = parse_verilog(file_path)\n",
    "\n",
    "# Generate the graph design\n",
    "design_graph = generate_graph_design(modules, inputs, outputs, wires)\n",
    "\n",
    "# Draw the graph\n",
    "pos = nx.spring_layout(design_graph)\n",
    "nx.draw(design_graph, pos, with_labels=True, node_size=1000, node_color='lightblue')\n",
    "plt.show()\n"
   ]
  },
  {
   "cell_type": "code",
   "execution_count": null,
   "id": "399620eb-9786-48a6-bf5c-68082a71d48a",
   "metadata": {},
   "outputs": [],
   "source": []
  }
 ],
 "metadata": {
  "kernelspec": {
   "display_name": "Python 3 (ipykernel)",
   "language": "python",
   "name": "python3"
  },
  "language_info": {
   "codemirror_mode": {
    "name": "ipython",
    "version": 3
   },
   "file_extension": ".py",
   "mimetype": "text/x-python",
   "name": "python",
   "nbconvert_exporter": "python",
   "pygments_lexer": "ipython3",
   "version": "3.9.7"
  }
 },
 "nbformat": 4,
 "nbformat_minor": 5
}
