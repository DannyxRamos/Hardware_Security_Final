{
 "cells": [
  {
   "cell_type": "code",
   "execution_count": null,
   "id": "a623726b-995d-4249-b6e6-a4d2f089009c",
   "metadata": {},
   "outputs": [],
   "source": [
    "import random\n",
    "\n",
    "def CliqueSampling(SG):\n",
    "    cns = True\n",
    "    P = list(SG.V)\n",
    "    \n",
    "    while P:\n",
    "        v = random.choice(P)\n",
    "        P.remove(v)\n",
    "        \n",
    "        if satisfiable(cns and (v.le == v.rv)):\n",
    "            cns = cns and (v.le == v.rv)\n",
    "            P = intersection(P, SG.E(v))\n",
    "        elif has_single_constraint(cns):\n",
    "            u = get_single_constraint_variable(cns)\n",
    "            SG.E[v] = SG.E[v] - {u}\n",
    "            SG.E[u] = SG.E[u] - {v}\n",
    "    \n",
    "    # Use SMT solver to solve cns and return the test\n",
    "    test = solve_with_SMT_solver(cns)\n",
    "    return test\n",
    "\n",
    "def satisfiable(expression):\n",
    "    return bool(expression)\n",
    "\n",
    "def has_single_constraint(cns):\n",
    "    return len(cns.args) == 1\n",
    "\n",
    "def intersection(expression1, expression2):\n",
    "    return expression1 and expression2\n",
    "\n"
   ]
  }
 ],
 "metadata": {
  "kernelspec": {
   "display_name": "Python 3 (ipykernel)",
   "language": "python",
   "name": "python3"
  },
  "language_info": {
   "codemirror_mode": {
    "name": "ipython",
    "version": 3
   },
   "file_extension": ".py",
   "mimetype": "text/x-python",
   "name": "python",
   "nbconvert_exporter": "python",
   "pygments_lexer": "ipython3",
   "version": "3.9.7"
  }
 },
 "nbformat": 4,
 "nbformat_minor": 5
}
