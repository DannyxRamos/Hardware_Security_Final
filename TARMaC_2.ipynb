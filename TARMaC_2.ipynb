{
 "cells": [
  {
   "cell_type": "code",
   "execution_count": 13,
   "id": "68e1cbe4-4ce8-430c-b1ad-cf21d71ac0f2",
   "metadata": {},
   "outputs": [
    {
     "data": {
      "text/plain": [
       "['n285:', '0']"
      ]
     },
     "execution_count": 13,
     "metadata": {},
     "output_type": "execute_result"
    }
   ],
   "source": [
    "import random\n",
    "import numpy\n",
    "import pickle\n",
    "import pycosat\n",
    "\n",
    "#### Circuit name\n",
    "#c2670 c7552 c6288 c5315 s13207 s15850 s35932 ibex\n",
    "circuit_name = 'c2670'\n",
    "# clause_file and mapping_file (cnf files)\n",
    "clause_file = \"cnf_clauses/\" + circuit_name + \"_cnf_clauses.pickle\"\n",
    "mapping_file = \"cnf_mapping/\" + circuit_name + \"_cnf_mapping.pickle\"\n",
    "# Trojan list file\n",
    "fault_list = \"0_5_\" + circuit_name + \"_size_4.txt\"\n",
    "# Rare nets and values of the design\n",
    "rare_net = \"rare_nets_and_rare_values_\" + circuit_name + \".txt\"\n",
    "# circuit file\n",
    "circuit_netlist = circuit_name + \".v\"\n",
    "\n",
    "\n",
    "matrix = []\n",
    "max_vector_number = 20\n",
    "\n",
    "with open(rare_net, 'r') as file:\n",
    "    for line in file:\n",
    "        row = line.strip().split()  # Split the line into elements\n",
    "        matrix.append(row)  # Add the row to the matrix\n",
    "\n",
    "def TARMAC(circuit_netlist, potential_signals, max_vector_number):\n",
    "    Tests = []\n",
    "    for i = 0 to max_vector_number:\n",
    "        ti = CliqueSampling(SG)\n",
    "        Tests.append(ti)\n",
    "    \n",
    "    return Tests \n",
    "    \n",
    "    \n",
    "\n",
    "        \n",
    "        \n",
    "def pick_random_element(matrix):\n",
    "    num_rows = len(matrix)\n",
    "    if num_rows == 0:\n",
    "        return None  # Return None if the matrix is empty\n",
    "\n",
    "    num_cols = len(matrix[0])\n",
    "    if num_cols == 0:\n",
    "        return None  # Return None if the matrix has no columns\n",
    "\n",
    "    random_row = random.randint(0, num_rows - 1)\n",
    "    random_col = random.randint(0, num_cols - 1)\n",
    "\n",
    "    return matrix[random_row]\n",
    "\n",
    "def CliqueSampling(matrix):\n",
    "    tests = []\n",
    "    \n",
    "    while tests < max_vector_number\n",
    "        element = pick_random_element(matrix) # pick an random wire\n",
    "        cnf_sat_solver(clause_file,mapping_file, fault_list) # check if compatible\n",
    "        if out_test == 'UNSAT': \n",
    "            ## do nothing?\n",
    "        else:\n",
    "            tests.append(element)\n",
    "            \n",
    "    return tests\n",
    "    \n",
    "\n"
   ]
  },
  {
   "cell_type": "code",
   "execution_count": null,
   "id": "6b6c6357-86ff-4e8a-9be5-87b9187441d1",
   "metadata": {},
   "outputs": [],
   "source": []
  },
  {
   "cell_type": "code",
   "execution_count": null,
   "id": "4a76a832-97c2-4a02-8045-a5a099107d6b",
   "metadata": {},
   "outputs": [],
   "source": []
  }
 ],
 "metadata": {
  "kernelspec": {
   "display_name": "Python 3 (ipykernel)",
   "language": "python",
   "name": "python3"
  },
  "language_info": {
   "codemirror_mode": {
    "name": "ipython",
    "version": 3
   },
   "file_extension": ".py",
   "mimetype": "text/x-python",
   "name": "python",
   "nbconvert_exporter": "python",
   "pygments_lexer": "ipython3",
   "version": "3.9.7"
  }
 },
 "nbformat": 4,
 "nbformat_minor": 5
}
